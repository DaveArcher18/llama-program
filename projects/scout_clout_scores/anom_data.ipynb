{
 "cells": [
  {
   "cell_type": "code",
   "execution_count": null,
   "id": "skilled-skirt",
   "metadata": {},
   "outputs": [],
   "source": [
    "import pandas as pd\n",
    "import glob"
   ]
  },
  {
   "cell_type": "markdown",
   "id": "opposite-convertible",
   "metadata": {
    "ExecuteTime": {
     "end_time": "2021-06-07T07:46:54.706953Z",
     "start_time": "2021-06-07T07:46:54.691954Z"
    }
   },
   "source": [
    "# Clean Scout"
   ]
  },
  {
   "cell_type": "code",
   "execution_count": 1,
   "id": "separated-reality",
   "metadata": {
    "ExecuteTime": {
     "end_time": "2021-06-07T07:59:33.244823Z",
     "start_time": "2021-06-07T07:59:32.890646Z"
    }
   },
   "outputs": [],
   "source": [
    "path = './scout_signups_history/'\n",
    "all_files = glob.glob(path + \"*.csv\")\n",
    "\n",
    "li = []\n",
    "\n",
    "for filename in all_files:\n",
    "    df = pd.read_csv(filename, index_col=None, header=0)\n",
    "    li.append(df)\n",
    "\n",
    "data = pd.concat(li, axis=0, ignore_index=True)\n",
    "usernames = data.username.unique()\n",
    "new_names = {user:f'user_{i}' for i, user in enumerate(usernames)}"
   ]
  },
  {
   "cell_type": "code",
   "execution_count": 3,
   "id": "devoted-bearing",
   "metadata": {
    "ExecuteTime": {
     "end_time": "2021-06-07T07:59:33.477679Z",
     "start_time": "2021-06-07T07:59:33.262648Z"
    }
   },
   "outputs": [],
   "source": [
    "for filename in all_files:\n",
    "    f = filename.split('\\\\')[-1]\n",
    "    df = pd.read_csv(filename, index_col=None, header=0)\n",
    "    df['username'] = df.username.apply(lambda x: new_names[x])\n",
    "    df['name'] = df.username\n",
    "    df['email'] = df.username.apply(lambda x: f'{x}@fakeemail.com')\n",
    "    df.to_csv(f'./scout_signups_clean/{f}')"
   ]
  },
  {
   "cell_type": "markdown",
   "id": "balanced-jungle",
   "metadata": {},
   "source": [
    "# Clean WTW"
   ]
  },
  {
   "cell_type": "code",
   "execution_count": 8,
   "id": "broke-daughter",
   "metadata": {
    "ExecuteTime": {
     "end_time": "2021-06-07T08:01:49.959613Z",
     "start_time": "2021-06-07T08:01:49.878442Z"
    }
   },
   "outputs": [],
   "source": [
    "path = './wtw_signups_history/'\n",
    "all_files = glob.glob(path + \"*.csv\")\n",
    "\n",
    "li = []\n",
    "\n",
    "for filename in all_files:\n",
    "    df = pd.read_csv(filename, index_col=None, header=0)\n",
    "    li.append(df)\n",
    "\n",
    "data = pd.concat(li, axis=0, ignore_index=True)\n",
    "usernames = data.username.unique()\n",
    "new_names = {user:f'user_{i}' for i, user in enumerate(usernames)}"
   ]
  },
  {
   "cell_type": "code",
   "execution_count": 9,
   "id": "green-nancy",
   "metadata": {
    "ExecuteTime": {
     "end_time": "2021-06-07T08:01:50.459444Z",
     "start_time": "2021-06-07T08:01:50.306441Z"
    }
   },
   "outputs": [],
   "source": [
    "for filename in all_files:\n",
    "    f = filename.split('\\\\')[-1]\n",
    "    df = pd.read_csv(filename, index_col=None, header=0)\n",
    "    df['username'] = df.username.apply(lambda x: new_names[x])\n",
    "    df['name'] = df.username\n",
    "    df['email'] = df.username.apply(lambda x: f'{x}@fakeemail.com')\n",
    "    df.to_csv(f'./wtw_signups_clean/{f}')"
   ]
  }
 ],
 "metadata": {
  "kernelspec": {
   "display_name": "Python 3",
   "language": "python",
   "name": "python3"
  },
  "language_info": {
   "codemirror_mode": {
    "name": "ipython",
    "version": 3
   },
   "file_extension": ".py",
   "mimetype": "text/x-python",
   "name": "python",
   "nbconvert_exporter": "python",
   "pygments_lexer": "ipython3",
   "version": "3.7.10"
  },
  "toc": {
   "base_numbering": 1,
   "nav_menu": {},
   "number_sections": true,
   "sideBar": true,
   "skip_h1_title": false,
   "title_cell": "Table of Contents",
   "title_sidebar": "Contents",
   "toc_cell": false,
   "toc_position": {},
   "toc_section_display": true,
   "toc_window_display": false
  },
  "varInspector": {
   "cols": {
    "lenName": 16,
    "lenType": 16,
    "lenVar": 40
   },
   "kernels_config": {
    "python": {
     "delete_cmd_postfix": "",
     "delete_cmd_prefix": "del ",
     "library": "var_list.py",
     "varRefreshCmd": "print(var_dic_list())"
    },
    "r": {
     "delete_cmd_postfix": ") ",
     "delete_cmd_prefix": "rm(",
     "library": "var_list.r",
     "varRefreshCmd": "cat(var_dic_list()) "
    }
   },
   "types_to_exclude": [
    "module",
    "function",
    "builtin_function_or_method",
    "instance",
    "_Feature"
   ],
   "window_display": false
  }
 },
 "nbformat": 4,
 "nbformat_minor": 5
}
